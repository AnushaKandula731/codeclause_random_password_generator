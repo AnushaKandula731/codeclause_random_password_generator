{
 "cells": [
  {
   "cell_type": "code",
   "execution_count": 10,
   "metadata": {},
   "outputs": [],
   "source": [
    "import random\n",
    "import string\n",
    "import tkinter as tk\n",
    "from tkinter import * \n",
    "\n",
    "def random_password():\n",
    "    pwd=''\n",
    "    length=12\n",
    "    lower = string.ascii_lowercase\n",
    "    upper = string.ascii_uppercase\n",
    "    num = string.digits\n",
    "    symbol = string.punctuation\n",
    "    all = lower + upper + num + symbol\n",
    "    temp = random.sample(all,length)\n",
    "    pwd = \"\".join(temp)\n",
    "    ans.set(pwd)\n",
    "\n",
    "generate = tk.Tk()\n",
    "generate.title(\"Password Generator\")\n",
    "generate.geometry(\"500x400\")\n",
    "\n",
    "generate.configure(bg='lavender')\n",
    "Label(generate,text = \"Random Password Generator\",font=30).pack(pady=10)\n",
    "\n",
    "ans=StringVar()\n",
    "submit = Button(generate,text = \"Click here to get password\",font=20,width = 30,command = random_password,fg=\"blue\").pack(pady=5)\n",
    "Entry(generate,text=\"password: \",textvariable=ans,width=20,font=60,fg=\"orange\").pack()\n",
    "generate.mainloop()"
   ]
  },
  {
   "cell_type": "code",
   "execution_count": 1,
   "metadata": {},
   "outputs": [
    {
     "name": "stdout",
     "output_type": "stream",
     "text": [
      "Note: you may need to restart the kernel to use updated packages.\n"
     ]
    },
    {
     "name": "stderr",
     "output_type": "stream",
     "text": [
      "ERROR: Could not find a version that satisfies the requirement tkinter (from versions: none)\n",
      "ERROR: No matching distribution found for tkinter\n"
     ]
    }
   ],
   "source": [
    "pip install tkinter"
   ]
  }
 ],
 "metadata": {
  "kernelspec": {
   "display_name": "base",
   "language": "python",
   "name": "python3"
  },
  "language_info": {
   "codemirror_mode": {
    "name": "ipython",
    "version": 3
   },
   "file_extension": ".py",
   "mimetype": "text/x-python",
   "name": "python",
   "nbconvert_exporter": "python",
   "pygments_lexer": "ipython3",
   "version": "3.9.13"
  },
  "orig_nbformat": 4
 },
 "nbformat": 4,
 "nbformat_minor": 2
}
